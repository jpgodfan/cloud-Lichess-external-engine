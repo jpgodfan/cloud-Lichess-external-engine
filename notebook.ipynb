{
  "cells": [
    {
      "cell_type": "markdown",
      "metadata": {
        "id": "view-in-github",
        "colab_type": "text"
      },
      "source": [
        "<a href=\"https://colab.research.google.com/github/jpgodfan/cloud-Lichess-external-engine/blob/main/notebook.ipynb\" target=\"_parent\"><img src=\"https://colab.research.google.com/assets/colab-badge.svg\" alt=\"Open In Colab\"/></a>"
      ]
    },
    {
      "cell_type": "markdown",
      "source": [
        "# **[Lichess](lichess.org) external engine (Stockfish) via colab**"
      ],
      "metadata": {
        "id": "gOVGCYv6IRBJ"
      }
    },
    {
      "cell_type": "markdown",
      "source": [
        "# Download"
      ],
      "metadata": {
        "id": "IV2KiWc_G1Ml"
      }
    },
    {
      "cell_type": "code",
      "source": [
        "!wget https://github.com/official-stockfish/Stockfish/releases/latest/download/stockfish-ubuntu-x86-64-avx512.tar\n",
        "!wget https://github.com/lichess-org/external-engine/raw/main/example-provider.py"
      ],
      "metadata": {
        "id": "Ii8Ji6RfFADN"
      },
      "execution_count": null,
      "outputs": []
    },
    {
      "cell_type": "markdown",
      "source": [
        "# Set Up"
      ],
      "metadata": {
        "id": "G_e5gofjG6Zc"
      }
    },
    {
      "cell_type": "code",
      "source": [
        "!tar -xf stockfish-ubuntu-x86-64-avx512.tar"
      ],
      "metadata": {
        "id": "t0DN7AJeFJAb"
      },
      "execution_count": null,
      "outputs": []
    },
    {
      "cell_type": "markdown",
      "source": [
        "# Usage (help)"
      ],
      "metadata": {
        "id": "S2j-73D5Hx-L"
      }
    },
    {
      "cell_type": "code",
      "source": [
        "!python3 example-provider.py -h"
      ],
      "metadata": {
        "id": "pOcL62uUFcsV"
      },
      "execution_count": null,
      "outputs": []
    },
    {
      "cell_type": "markdown",
      "source": [
        "#Run\n",
        ">Replace `your-api-token/key` with your lichess API token or key"
      ],
      "metadata": {
        "id": "LnsLDQCWKDwG"
      }
    },
    {
      "cell_type": "code",
      "source": [
        "!LICHESS_API_TOKEN=your-api-token/key python3 example-provider.py --engine /content/stockfish/stockfish-ubuntu-x86-64-avx512 --name \"Stockfish 17 (External)\" --max-hash 262144"
      ],
      "metadata": {
        "id": "W6f2HdNAlpRa"
      },
      "execution_count": null,
      "outputs": []
    }
  ],
  "metadata": {
    "colab": {
      "name": "colab notebook",
      "provenance": [],
      "gpuType": "V28",
      "include_colab_link": true
    },
    "kernelspec": {
      "display_name": "Python 3",
      "name": "python3"
    },
    "accelerator": "TPU"
  },
  "nbformat": 4,
  "nbformat_minor": 0
}